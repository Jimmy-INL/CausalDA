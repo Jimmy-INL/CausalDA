{
 "cells": [
  {
   "cell_type": "code",
   "execution_count": 1,
   "metadata": {},
   "outputs": [],
   "source": [
    "import numpy as np\n",
    "import matplotlib.pyplot as plt\n",
    "import seaborn as sns\n",
    "\n",
    "import torch\n",
    "import torch.nn as nn\n",
    "import torch.nn.functional as F\n",
    "import torch.optim as optim\n",
    "\n",
    "import torchvision\n",
    "\n"
   ]
  },
  {
   "cell_type": "code",
   "execution_count": 2,
   "metadata": {},
   "outputs": [
    {
     "name": "stdout",
     "output_type": "stream",
     "text": [
      "cuda:0\n"
     ]
    }
   ],
   "source": [
    "device = torch.device(\"cuda:0\" if torch.cuda.is_available() else \"cpu\")\n",
    "\n",
    "# Assuming that we are on a CUDA machine, this should print a CUDA device:\n",
    "\n",
    "print(device)"
   ]
  },
  {
   "cell_type": "code",
   "execution_count": 3,
   "metadata": {},
   "outputs": [],
   "source": [
    "batch_size = 64\n",
    "test_batch_size = 1000\n",
    "epochs = 10"
   ]
  },
  {
   "cell_type": "code",
   "execution_count": 4,
   "metadata": {},
   "outputs": [],
   "source": [
    "# load MNIST data\n",
    "transformer = torchvision.transforms.Compose(\n",
    "    [torchvision.transforms.ToTensor(),\n",
    "     torchvision.transforms.Normalize((0.1306,), (0.3081,))])\n",
    "\n",
    "trainset = torchvision.datasets.MNIST(root='./data', train=True,\n",
    "                                      download=True, transform=transformer)\n",
    "\n",
    "trainloader = torch.utils.data.DataLoader(trainset, batch_size=batch_size,\n",
    "                                          shuffle=True, num_workers=2)\n",
    "\n",
    "testset = torchvision.datasets.MNIST(root='./data', train=False,\n",
    "                                       download=True, transform=transformer)\n",
    "testloader = torch.utils.data.DataLoader(testset, batch_size=test_batch_size,\n",
    "                                         shuffle=False, num_workers=2)"
   ]
  },
  {
   "cell_type": "code",
   "execution_count": 5,
   "metadata": {},
   "outputs": [
    {
     "name": "stdout",
     "output_type": "stream",
     "text": [
      "tensor(0.1306)\n",
      "tensor(0.3081)\n"
     ]
    }
   ],
   "source": [
    "print(trainset.data.float().mean()/255)\n",
    "print(trainset.data.float().std()/255)"
   ]
  },
  {
   "cell_type": "code",
   "execution_count": 6,
   "metadata": {},
   "outputs": [],
   "source": [
    "classes = np.arange(10)"
   ]
  },
  {
   "cell_type": "code",
   "execution_count": 7,
   "metadata": {},
   "outputs": [],
   "source": [
    "# functions to show an image\n",
    "def imshow(img):\n",
    "#     img = img / 2 + 0.5     # unnormalize\n",
    "    npimg = img.numpy()\n",
    "    plt.imshow(np.transpose(npimg, (1, 2, 0)))\n",
    "    plt.show()"
   ]
  },
  {
   "cell_type": "code",
   "execution_count": 8,
   "metadata": {},
   "outputs": [
    {
     "name": "stderr",
     "output_type": "stream",
     "text": [
      "Clipping input data to the valid range for imshow with RGB data ([0..1] for floats or [0..255] for integers).\n"
     ]
    },
    {
     "data": {
      "image/png": "[encoded data removed]",
      "text/plain": [
       "<Figure size 432x288 with 1 Axes>"
      ]
     },
     "metadata": {
      "needs_background": "light"
     },
     "output_type": "display_data"
    },
    {
     "name": "stdout",
     "output_type": "stream",
     "text": [
      " 8  1  0  9  4  7  0  1  9  5  2  0  6  7  0  6  4  2  2  5  1  3  0  1  4  2  6  5  3  9  6  8  6  4  2  1  3  0  1  8  5  4  5  5  5  8  7  1  1  7  0  1  4  8  4  9  8  6  0  9  8  0  9  9\n"
     ]
    }
   ],
   "source": [
    "# get some random training images\n",
    "dataiter = iter(trainloader)\n",
    "images, labels = dataiter.next()\n",
    "\n",
    "# show images\n",
    "imshow(torchvision.utils.make_grid(images))\n",
    "# print labels\n",
    "print(' '.join('%2s' % classes[labels[j]] for j in range(batch_size)))"
   ]
  },
  {
   "cell_type": "code",
   "execution_count": 9,
   "metadata": {},
   "outputs": [
    {
     "data": {
      "text/plain": [
       "Net(\n",
       "  (conv1): Conv2d(1, 20, kernel_size=(5, 5), stride=(1, 1))\n",
       "  (conv2): Conv2d(20, 50, kernel_size=(5, 5), stride=(1, 1))\n",
       "  (fc1): Linear(in_features=800, out_features=500, bias=True)\n",
       "  (fc2): Linear(in_features=500, out_features=10, bias=True)\n",
       ")"
      ]
     },
     "execution_count": 9,
     "metadata": {},
     "output_type": "execute_result"
    }
   ],
   "source": [
    "class Net(nn.Module):\n",
    "    def __init__(self):\n",
    "        super(Net, self).__init__()\n",
    "        self.conv1 = nn.Conv2d(1, 20, 5, 1)\n",
    "        self.conv2 = nn.Conv2d(20, 50, 5, 1)\n",
    "        self.fc1 = nn.Linear(4*4*50, 500)\n",
    "        self.fc2 = nn.Linear(500, 10)\n",
    "\n",
    "    def forward(self, x):\n",
    "        x = F.relu(self.conv1(x))\n",
    "        x = F.max_pool2d(x, 2, 2)\n",
    "        x = F.relu(self.conv2(x))\n",
    "        x = F.max_pool2d(x, 2, 2)\n",
    "        x = x.view(-1, 4*4*50)\n",
    "        x = F.relu(self.fc1(x))\n",
    "        x = self.fc2(x)\n",
    "        return F.log_softmax(x, dim=1)\n",
    "\n",
    "net = Net()\n",
    "net.to(device)"
   ]
  },
  {
   "cell_type": "code",
   "execution_count": 10,
   "metadata": {},
   "outputs": [],
   "source": [
    "# set loss and optimizer\n",
    "criterion = F.nll_loss\n",
    "optimizer = optim.SGD(net.parameters(), lr=0.001, momentum=0.9)"
   ]
  },
  {
   "cell_type": "code",
   "execution_count": 11,
   "metadata": {},
   "outputs": [
    {
     "name": "stdout",
     "output_type": "stream",
     "text": [
      "[1,   100] loss: 2.049\n",
      "[1,   200] loss: 0.804\n",
      "[1,   300] loss: 0.426\n",
      "[1,   400] loss: 0.338\n",
      "[1,   500] loss: 0.303\n",
      "[1,   600] loss: 0.262\n",
      "[1,   700] loss: 0.221\n",
      "[1,   800] loss: 0.197\n",
      "[1,   900] loss: 0.195\n",
      "[2,   100] loss: 0.173\n",
      "[2,   200] loss: 0.159\n",
      "[2,   300] loss: 0.158\n",
      "[2,   400] loss: 0.142\n",
      "[2,   500] loss: 0.122\n",
      "[2,   600] loss: 0.127\n",
      "[2,   700] loss: 0.122\n",
      "[2,   800] loss: 0.120\n",
      "[2,   900] loss: 0.110\n",
      "[3,   100] loss: 0.101\n",
      "[3,   200] loss: 0.093\n",
      "[3,   300] loss: 0.097\n",
      "[3,   400] loss: 0.102\n",
      "[3,   500] loss: 0.096\n",
      "[3,   600] loss: 0.092\n",
      "[3,   700] loss: 0.090\n",
      "[3,   800] loss: 0.085\n",
      "[3,   900] loss: 0.088\n",
      "[4,   100] loss: 0.081\n",
      "[4,   200] loss: 0.075\n",
      "[4,   300] loss: 0.079\n",
      "[4,   400] loss: 0.081\n",
      "[4,   500] loss: 0.071\n",
      "[4,   600] loss: 0.071\n",
      "[4,   700] loss: 0.068\n",
      "[4,   800] loss: 0.073\n",
      "[4,   900] loss: 0.068\n",
      "[5,   100] loss: 0.063\n",
      "[5,   200] loss: 0.062\n",
      "[5,   300] loss: 0.069\n",
      "[5,   400] loss: 0.060\n",
      "[5,   500] loss: 0.056\n",
      "[5,   600] loss: 0.061\n",
      "[5,   700] loss: 0.059\n",
      "[5,   800] loss: 0.059\n",
      "[5,   900] loss: 0.063\n",
      "[6,   100] loss: 0.055\n",
      "[6,   200] loss: 0.052\n",
      "[6,   300] loss: 0.060\n",
      "[6,   400] loss: 0.053\n",
      "[6,   500] loss: 0.063\n",
      "[6,   600] loss: 0.051\n",
      "[6,   700] loss: 0.041\n",
      "[6,   800] loss: 0.055\n",
      "[6,   900] loss: 0.053\n",
      "[7,   100] loss: 0.048\n",
      "[7,   200] loss: 0.049\n",
      "[7,   300] loss: 0.044\n",
      "[7,   400] loss: 0.047\n",
      "[7,   500] loss: 0.047\n",
      "[7,   600] loss: 0.054\n",
      "[7,   700] loss: 0.046\n",
      "[7,   800] loss: 0.045\n",
      "[7,   900] loss: 0.053\n",
      "[8,   100] loss: 0.042\n",
      "[8,   200] loss: 0.048\n",
      "[8,   300] loss: 0.046\n",
      "[8,   400] loss: 0.042\n",
      "[8,   500] loss: 0.041\n",
      "[8,   600] loss: 0.041\n",
      "[8,   700] loss: 0.040\n",
      "[8,   800] loss: 0.041\n",
      "[8,   900] loss: 0.040\n",
      "[9,   100] loss: 0.038\n",
      "[9,   200] loss: 0.046\n",
      "[9,   300] loss: 0.033\n",
      "[9,   400] loss: 0.041\n",
      "[9,   500] loss: 0.036\n",
      "[9,   600] loss: 0.039\n",
      "[9,   700] loss: 0.034\n",
      "[9,   800] loss: 0.040\n",
      "[9,   900] loss: 0.034\n",
      "[10,   100] loss: 0.033\n",
      "[10,   200] loss: 0.037\n",
      "[10,   300] loss: 0.039\n",
      "[10,   400] loss: 0.034\n",
      "[10,   500] loss: 0.033\n",
      "[10,   600] loss: 0.035\n",
      "[10,   700] loss: 0.040\n",
      "[10,   800] loss: 0.038\n",
      "[10,   900] loss: 0.029\n",
      "Finished Training\n"
     ]
    }
   ],
   "source": [
    "for epoch in range(epochs):  # loop over the dataset multiple times\n",
    "\n",
    "    running_loss = 0.0\n",
    "    for i, data in enumerate(trainloader, 0):\n",
    "        # get the inputs; data is a list of [inputs, labels]\n",
    "#         inputs, labels = data\n",
    "        \n",
    "        inputs, labels = data[0].to(device), data[1].to(device)\n",
    "\n",
    "\n",
    "        # zero the parameter gradients\n",
    "        optimizer.zero_grad()\n",
    "\n",
    "        # forward + backward + optimize\n",
    "        outputs = net(inputs)\n",
    "        loss = criterion(outputs, labels)\n",
    "        loss.backward()\n",
    "        optimizer.step()\n",
    "\n",
    "        # print statistics\n",
    "        running_loss += loss.item()\n",
    "        if i % 100 == 99:    # print every 100 mini-batches\n",
    "            print('[%d, %5d] loss: %.3f' %\n",
    "                  (epoch + 1, i + 1, running_loss / 100))\n",
    "            running_loss = 0.0\n",
    "\n",
    "print('Finished Training')\n"
   ]
  },
  {
   "cell_type": "code",
   "execution_count": 13,
   "metadata": {},
   "outputs": [
    {
     "name": "stdout",
     "output_type": "stream",
     "text": [
      "Accuracy of the network on the 60000 train images: 99.2 %\n"
     ]
    }
   ],
   "source": [
    "correct_train = 0\n",
    "total_train = 0\n",
    "# no gradient computation\n",
    "with torch.no_grad():\n",
    "    for data in trainloader:\n",
    "        images, labels = data[0].to(device), data[1].to(device)\n",
    "        outputs = net(images)\n",
    "        _, predicted = torch.max(outputs.data, 1)\n",
    "        total_train += labels.size(0)\n",
    "        correct_train += (predicted == labels).sum().item()\n",
    "\n",
    "print('Accuracy of the network on the %d train images: %.1f %%' % (total_train, \n",
    "    100. * correct_train / total_train))"
   ]
  },
  {
   "cell_type": "code",
   "execution_count": 14,
   "metadata": {},
   "outputs": [
    {
     "name": "stdout",
     "output_type": "stream",
     "text": [
      "Accuracy of the network on the 10000 test images: 98.8 %\n"
     ]
    }
   ],
   "source": [
    "correct = 0\n",
    "total = 0\n",
    "# no gradient computation\n",
    "with torch.no_grad():\n",
    "    for data in testloader:\n",
    "        images, labels = data[0].to(device), data[1].to(device)\n",
    "        outputs = net(images)\n",
    "        _, predicted = torch.max(outputs.data, 1)\n",
    "        total += labels.size(0)\n",
    "        correct += (predicted == labels).sum().item()\n",
    "\n",
    "print('Accuracy of the network on the %d test images: %.1f %%' % (total, \n",
    "    100 * correct / total))"
   ]
  },
  {
   "cell_type": "code",
   "execution_count": 15,
   "metadata": {},
   "outputs": [
    {
     "data": {
      "image/png": "[encoded data removed]",
      "text/plain": [
       "<Figure size 864x576 with 2 Axes>"
      ]
     },
     "metadata": {
      "needs_background": "light"
     },
     "output_type": "display_data"
    }
   ],
   "source": [
    "# get confusion matrix\n",
    "predicted_class_count = np.zeros((10, 10))\n",
    "class_total = list(0. for i in range(10))\n",
    "\n",
    "with torch.no_grad():\n",
    "    for data in testloader:\n",
    "        images, labels = data[0].to(device), data[1].to(device)\n",
    "        outputs = net(images)\n",
    "        _, predicted = torch.max(outputs, 1)\n",
    "        for i in range(test_batch_size):\n",
    "            label = labels[i]\n",
    "            predicted_class_count[label][predicted[i]] += 1\n",
    "            class_total[label] += 1\n",
    "            \n",
    "confusion_mat = predicted_class_count/class_total\n",
    "plt.figure(figsize=(12, 8))\n",
    "sns.heatmap(confusion_mat,annot=confusion_mat, xticklabels=classes, yticklabels=classes)\n",
    "plt.show()"
   ]
  },
  {
   "cell_type": "code",
   "execution_count": 16,
   "metadata": {},
   "outputs": [],
   "source": [
    "# save model\n",
    "SAVE_PATH = 'mycheckpoints/MNIST_2C2F.pt'\n",
    "torch.save(net.state_dict(), SAVE_PATH)\n"
   ]
  },
  {
   "cell_type": "code",
   "execution_count": null,
   "metadata": {},
   "outputs": [],
   "source": []
  }
 ],
 "metadata": {
  "kernelspec": {
   "display_name": "Python 3",
   "language": "python",
   "name": "python3"
  },
  "language_info": {
   "codemirror_mode": {
    "name": "ipython",
    "version": 3
   },
   "file_extension": ".py",
   "mimetype": "text/x-python",
   "name": "python",
   "nbconvert_exporter": "python",
   "pygments_lexer": "ipython3",
   "version": "3.6.4"
  }
 },
 "nbformat": 4,
 "nbformat_minor": 2
}
