{
 "cells": [
  {
   "cell_type": "code",
   "execution_count": 1,
   "metadata": {},
   "outputs": [],
   "source": [
    "import numpy as np\n",
    "import matplotlib.pyplot as plt\n",
    "import seaborn as sns\n",
    "\n",
    "import pandas as pd\n",
    "\n",
    "plt.rcParams['axes.facecolor'] = 'lightgray'\n",
    "sns.set(style=\"darkgrid\")\n",
    "np.set_printoptions(precision=3)"
   ]
  },
  {
   "cell_type": "code",
   "execution_count": 2,
   "metadata": {},
   "outputs": [],
   "source": [
    "def boxplot_all_methods(plt_handle, res_all, title='', names=[], color=[]):\n",
    "    res_all_df = pd.DataFrame(res_all.T)\n",
    "    res_all_df.columns = names\n",
    "    res_all_df_melt = res_all_df.melt(var_name='methods', value_name='accuracy')\n",
    "    res_all_mean = np.mean(res_all, axis=1)\n",
    "    \n",
    "#     plt_handle.set_title(title, fontsize=15)\n",
    "\n",
    "    plt_handle.axhline(res_all_mean[2], ls='--', color='b')\n",
    "    plt_handle.axhline(res_all_mean[1], ls='--', color='r')\n",
    "    ax = sns.boxplot(x=\"methods\", y=\"accuracy\", data=res_all_df_melt, palette=color, ax=plt_handle)\n",
    "    ax.set_xticklabels(ax.get_xticklabels(), rotation=-60, ha='left', fontsize=20)\n",
    "    ax.tick_params(labelsize=20)\n",
    "    ax.yaxis.grid(False) # Hide the horizontal gridlines\n",
    "    ax.xaxis.grid(True) # Show the vertical gridlines\n",
    "    ax.set_xlabel(\"methods\")\n",
    "    ax.set_ylabel(\"accuracy\")\n",
    "    \n",
    "    ax.set_xlabel(\"\")\n",
    "    ax.set_ylabel(\"Accuracy (%)\", fontsize=20)"
   ]
  },
  {
   "cell_type": "code",
   "execution_count": 3,
   "metadata": {},
   "outputs": [],
   "source": [
    "# perturb = 'whitepatch2M'\n",
    "# perturb = 'rotation2M'\n",
    "perturb = 'rotation2Ma'\n",
    "# perturb = 'translation2M'\n",
    "M = 2\n",
    "subset_prop = 0.2\n",
    "lamL2 = 0.\n",
    "lamL1 = 0.\n",
    "lr = 1e-4\n",
    "epochs=100"
   ]
  },
  {
   "cell_type": "code",
   "execution_count": 4,
   "metadata": {},
   "outputs": [],
   "source": [
    "names_short = [\"Original\", \"Tar\", \"Src[1]\", 'DIP[1]', 'DIP[1]-MMD']\n",
    "\n",
    "prefix_template = 'results_MNIST/report_v8_%s_M%d_subsetprop%s_%s_lamMatch%s_lamMatchMMD%s_epochs%d_seed%d'"
   ]
  },
  {
   "cell_type": "code",
   "execution_count": 5,
   "metadata": {},
   "outputs": [],
   "source": [
    "repeats = 10\n",
    "nb_ba = 3 # Original, Tar, Src[1]\n",
    "results_src_ba = np.zeros((M-1, nb_ba, 2, repeats))\n",
    "results_tar_ba = np.zeros((nb_ba, 2, repeats))\n",
    "for seed in range(repeats):\n",
    "    savefilename_prefix = prefix_template % (perturb,\n",
    "                                     M, str(subset_prop), 'baseline', 1., 1., epochs, seed)\n",
    "    res = np.load(\"%s.npy\" %savefilename_prefix, allow_pickle=True)\n",
    "    \n",
    "    results_src_ba[:, :, :, seed] =res.item()['src']\n",
    "    results_tar_ba[:, :, seed] = res.item()['tar']"
   ]
  },
  {
   "cell_type": "code",
   "execution_count": 6,
   "metadata": {},
   "outputs": [],
   "source": [
    "lamMatches = [10.**(k) for k in (np.arange(10)-5)]"
   ]
  },
  {
   "cell_type": "code",
   "execution_count": 7,
   "metadata": {},
   "outputs": [],
   "source": [
    "nb_dip = 3 # DIP DIPOracle DIP-MMD\n",
    "results_src_dip = np.zeros((len(lamMatches), M-1, nb_dip, 2, repeats))\n",
    "results_tar_dip = np.zeros((len(lamMatches), nb_dip, 2, repeats))\n",
    "for i, lam in enumerate(lamMatches):\n",
    "    for seed in range(repeats):\n",
    "        savefilename_prefix = prefix_template % (perturb,\n",
    "                                         M, str(subset_prop), 'DIP', lam, lam, epochs, seed)\n",
    "        res = np.load(\"%s.npy\" %savefilename_prefix, allow_pickle=True)\n",
    "\n",
    "        results_src_dip[i, :, :, :, seed] =res.item()['src']\n",
    "        results_tar_dip[i, :, :, seed] = res.item()['tar']"
   ]
  },
  {
   "cell_type": "code",
   "execution_count": 8,
   "metadata": {},
   "outputs": [
    {
     "name": "stdout",
     "output_type": "stream",
     "text": [
      "8\n",
      "8\n",
      "7\n"
     ]
    }
   ],
   "source": [
    "# choose lambda based on the source test performance\n",
    "lam_index_dip = np.zeros(nb_dip, dtype=int)\n",
    "for i in range(nb_dip):\n",
    "    src_test_acc_all = results_src_dip[:, 0, i, 1, :].mean(axis=1)\n",
    "    # choose the largest lambda such that the source performance does not drop too much (5%)\n",
    "    lam_index = 0\n",
    "    for k, src_test_acc in enumerate(src_test_acc_all):\n",
    "        if src_test_acc > src_test_acc_all[0] * 0.95:\n",
    "            lam_index = k\n",
    "    lam_index_dip[i] = lam_index\n",
    "    print(lam_index)"
   ]
  },
  {
   "cell_type": "code",
   "execution_count": 9,
   "metadata": {},
   "outputs": [],
   "source": [
    "results_tar_plot = np.concatenate((results_tar_ba[:, 0, :],\n",
    "                                   results_tar_dip[lam_index_dip[0], 0, 0, :].reshape(1, -1),\n",
    "                                   results_tar_dip[lam_index_dip[2], 2, 0, :].reshape(1, -1)), axis=0)"
   ]
  },
  {
   "cell_type": "code",
   "execution_count": 10,
   "metadata": {},
   "outputs": [
    {
     "data": {
      "image/png": "[encoded data removed]",
      "text/plain": [
       "<Figure size 360x72 with 1 Axes>"
      ]
     },
     "metadata": {
      "needs_background": "light"
     },
     "output_type": "display_data"
    }
   ],
   "source": [
    "COLOR_PALETTE1 = sns.color_palette(\"Set1\", 9, desat=1.)\n",
    "COLOR_PALETTE2 = sns.color_palette(\"Set1\", 9, desat=.7)\n",
    "COLOR_PALETTE3 = sns.color_palette(\"Set1\", 9, desat=.5)\n",
    "COLOR_PALETTE4 = sns.color_palette(\"Set1\", 9, desat=.3)\n",
    "# COLOR_PALETTE2 = sns.color_palette(\"Dark2\", 30)\n",
    "# COLOR_PALETTE = COLOR_PALETTE1[:8] + COLOR_PALETTE2[:30]\n",
    "COLOR_PALETTE = [COLOR_PALETTE1[8], COLOR_PALETTE1[0], COLOR_PALETTE1[1], COLOR_PALETTE1[3], COLOR_PALETTE4[3]]\n",
    "sns.palplot(COLOR_PALETTE)\n"
   ]
  },
  {
   "cell_type": "code",
   "execution_count": 11,
   "metadata": {
    "scrolled": false
   },
   "outputs": [
    {
     "data": {
      "image/png": "[encoded data removed]",
      "text/plain": [
       "<Figure size 360x360 with 1 Axes>"
      ]
     },
     "metadata": {
      "needs_background": "light"
     },
     "output_type": "display_data"
    }
   ],
   "source": [
    "fig, axs = plt.subplots(1, 1, figsize=(5,5))\n",
    "boxplot_all_methods(axs, results_tar_plot*100,\n",
    "                     title=\"MNIST: single source patch intervention\", names=names_short,\n",
    "                     color=np.array(COLOR_PALETTE)[:len(names_short)])\n",
    "\n",
    "plt.savefig(\"paper_figures/%s\" %\"MNIST_%s_2M.pdf\" %perturb, bbox_inches=\"tight\")\n",
    "plt.show()"
   ]
  },
  {
   "cell_type": "code",
   "execution_count": null,
   "metadata": {},
   "outputs": [],
   "source": []
  }
 ],
 "metadata": {
  "kernelspec": {
   "display_name": "Python 3",
   "language": "python",
   "name": "python3"
  },
  "language_info": {
   "codemirror_mode": {
    "name": "ipython",
    "version": 3
   },
   "file_extension": ".py",
   "mimetype": "text/x-python",
   "name": "python",
   "nbconvert_exporter": "python",
   "pygments_lexer": "ipython3",
   "version": "3.6.4"
  }
 },
 "nbformat": 4,
 "nbformat_minor": 2
}
