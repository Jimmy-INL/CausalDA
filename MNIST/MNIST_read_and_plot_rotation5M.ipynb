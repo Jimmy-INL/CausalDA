{
 "cells": [
  {
   "cell_type": "code",
   "execution_count": 1,
   "metadata": {},
   "outputs": [],
   "source": [
    "import numpy as np\n",
    "import matplotlib.pyplot as plt\n",
    "import seaborn as sns\n",
    "\n",
    "import pandas as pd\n",
    "\n",
    "plt.rcParams['axes.facecolor'] = 'lightgray'\n",
    "sns.set(style=\"darkgrid\")\n",
    "np.set_printoptions(precision=3)"
   ]
  },
  {
   "cell_type": "code",
   "execution_count": 2,
   "metadata": {},
   "outputs": [],
   "source": [
    "def boxplot_all_methods(plt_handle, res_all, title='', names=[], color=[]):\n",
    "    res_all_df = pd.DataFrame(res_all.T)\n",
    "    res_all_df.columns = names\n",
    "    res_all_df_melt = res_all_df.melt(var_name='methods', value_name='accuracy')\n",
    "    res_all_mean = np.mean(res_all, axis=1)\n",
    "#     print(res_all_df_melt)\n",
    "    print(res_all_df.shape, res_all_mean.shape, res_all_df_melt.shape)\n",
    "    \n",
    "#     plt_handle.set_title(title, fontsize=15)\n",
    "\n",
    "    plt_handle.axhline(res_all_mean[2], ls='--', color='b')\n",
    "    plt_handle.axhline(res_all_mean[1], ls='--', color='r')\n",
    "    ax = sns.boxplot(x=\"methods\", y=\"accuracy\", data=res_all_df_melt, palette=color, ax=plt_handle)\n",
    "    ax.set_xticklabels(ax.get_xticklabels(), rotation=-60, ha='left', fontsize=15)\n",
    "    ax.tick_params(labelsize=15)\n",
    "    ax.yaxis.grid(False) # Hide the horizontal gridlines\n",
    "    ax.xaxis.grid(True) # Show the vertical gridlines\n",
    "    ax.set_xlabel(\"methods\")\n",
    "    ax.set_ylabel(\"accuracy\")\n",
    "    \n",
    "    ax.set_xlabel(\"\")\n",
    "    ax.set_ylabel(\"Accuracy (%)\", fontsize=15)"
   ]
  },
  {
   "cell_type": "code",
   "execution_count": 3,
   "metadata": {},
   "outputs": [],
   "source": [
    "# perturb = 'whitepatch'\n",
    "perturb = 'rotation'\n",
    "M = 5\n",
    "subset_prop = 0.2\n",
    "lamL2 = 0.\n",
    "lamL1 = 0.\n",
    "lr = 1e-4\n",
    "epochs= 100"
   ]
  },
  {
   "cell_type": "code",
   "execution_count": 4,
   "metadata": {},
   "outputs": [],
   "source": [
    "names_short = ['Original', \"Tar\", \"Src[1]\",\n",
    "               'DIP[1]', 'DIPweigh', 'CIP', 'CIRMweigh',\n",
    "               'DIP[1]-MMD', 'DIPweigh-MMD', 'CIP-MMD', 'CIRMweigh-MMD']\n",
    "\n",
    "prefix_template = 'results_MNIST/report_v8_%s_M%d_subsetprop%s_%s_lamMatch%s_lamCIP%s_lamMatchMMD%s_lamCIPMMD%s_epochs%d_seed%d'\n",
    "\n"
   ]
  },
  {
   "cell_type": "code",
   "execution_count": 5,
   "metadata": {},
   "outputs": [],
   "source": [
    "repeats = 10\n",
    "nb_ba = 3 # Original, Tar, Src[1]\n",
    "results_src_ba = np.zeros((M-1, nb_ba, 2, 10))\n",
    "results_tar_ba = np.zeros((nb_ba, 2, 10))\n",
    "for seed in range(repeats):\n",
    "    savefilename_prefix =  prefix_template % (perturb,\n",
    "                                     M, str(subset_prop), 'baseline', 1., 0.1, 1., 0.1, epochs, seed)\n",
    "    res = np.load(\"%s.npy\" %savefilename_prefix, allow_pickle=True)\n",
    "\n",
    "    results_src_ba[:, :, :, seed] =res.item()['src']\n",
    "    results_tar_ba[:, :, seed] = res.item()['tar']"
   ]
  },
  {
   "cell_type": "code",
   "execution_count": 6,
   "metadata": {},
   "outputs": [],
   "source": [
    "lamMatches = [10.**(k) for k in (np.arange(10)-5)]"
   ]
  },
  {
   "cell_type": "code",
   "execution_count": 7,
   "metadata": {},
   "outputs": [],
   "source": [
    "# DAmean methods: DIP, DIPOracle, DIPweigh, CIRMweigh\n",
    "nb_methods_damean = 4\n",
    "repeats = 10\n",
    "results_src_damean = np.zeros((len(lamMatches), M-1, nb_methods_damean, 2, 10))\n",
    "results_tar_damean = np.zeros((len(lamMatches), nb_methods_damean, 2, 10))\n",
    "for i, lam in enumerate(lamMatches):\n",
    "    for seed in range(repeats):\n",
    "        savefilename_prefix = prefix_template % (perturb,\n",
    "                                     M, str(subset_prop), 'DAmean', lam, 10., lam, 10., epochs, seed)\n",
    "        res = np.load(\"%s.npy\" %savefilename_prefix, allow_pickle=True)\n",
    "\n",
    "        results_src_damean[i, :, :, :, seed] =res.item()['src']\n",
    "        results_tar_damean[i, :, :, seed] = res.item()['tar']"
   ]
  },
  {
   "cell_type": "code",
   "execution_count": 8,
   "metadata": {},
   "outputs": [
    {
     "name": "stdout",
     "output_type": "stream",
     "text": [
      "7 100.0\n",
      "3 0.01\n",
      "7 100.0\n",
      "4 0.1\n"
     ]
    }
   ],
   "source": [
    "# choose lambda based on the source test performance\n",
    "lam_index_damean = np.zeros(nb_methods_damean, dtype=int)\n",
    "for i in range(nb_methods_damean):\n",
    "    if i == 0 or i == 1:\n",
    "        src_test_acc_all = results_src_damean[:, 0, i, 1, :].mean(axis=1)\n",
    "    else:\n",
    "        # M-2 for the source environment that is selected by weighting methods\n",
    "        src_test_acc_all = results_src_damean[:, M-2, i, 1, :].mean(axis=1)\n",
    "    # choose the largest lambda such that the source performance does not drop too much (5%)\n",
    "    lam_index = 0\n",
    "    for k, src_test_acc in enumerate(src_test_acc_all):\n",
    "        \n",
    "        if src_test_acc > np.max(src_test_acc_all) * 0.99:\n",
    "            lam_index = k\n",
    "    lam_index_damean[i] = lam_index\n",
    "    print(lam_index, lamMatches[lam_index])"
   ]
  },
  {
   "cell_type": "code",
   "execution_count": 9,
   "metadata": {},
   "outputs": [],
   "source": [
    "# DAMMD methods: DIP-MMD, DIPweigh-MMD, CIRMweigh-MMD\n",
    "nb_methods_dammd = 3\n",
    "repeats = 10\n",
    "results_src_dammd = np.zeros((len(lamMatches), M-1, nb_methods_dammd, 2, 10))\n",
    "results_tar_dammd = np.zeros((len(lamMatches), nb_methods_dammd, 2, 10))\n",
    "for i, lam in enumerate(lamMatches):\n",
    "    for seed in range(repeats):\n",
    "        savefilename_prefix = prefix_template % (perturb,\n",
    "                                     M, str(subset_prop), 'DAMMD', lam, 10., lam, 10., epochs, seed)\n",
    "        res = np.load(\"%s.npy\" %savefilename_prefix, allow_pickle=True)\n",
    "\n",
    "        results_src_dammd[i, :, :, :, seed] =res.item()['src']\n",
    "        results_tar_dammd[i, :, :, seed] = res.item()['tar']"
   ]
  },
  {
   "cell_type": "code",
   "execution_count": 10,
   "metadata": {},
   "outputs": [
    {
     "name": "stdout",
     "output_type": "stream",
     "text": [
      "6\n",
      "5\n",
      "7\n"
     ]
    }
   ],
   "source": [
    "# choose lambda based on the source test performance\n",
    "lam_index_dammd = np.zeros(nb_methods_dammd, dtype=int)\n",
    "for i in range(nb_methods_dammd):\n",
    "    if i == 0:\n",
    "        src_test_acc_all = results_src_dammd[:, 0, i, 1, :].mean(axis=1)\n",
    "    else:\n",
    "        # M-2 for the source environment that is selected by weighting methods\n",
    "        src_test_acc_all = results_src_dammd[:, M-2, i, 1, :].mean(axis=1)\n",
    "    # choose the largest lambda such that the source performance does not drop too much (5%)\n",
    "    lam_index = 0\n",
    "    for k, src_test_acc in enumerate(src_test_acc_all):\n",
    "        if src_test_acc > np.max(src_test_acc_all) * 0.99:\n",
    "            lam_index = k\n",
    "    lam_index_dammd[i] = lam_index\n",
    "    print(lam_index)"
   ]
  },
  {
   "cell_type": "code",
   "execution_count": 11,
   "metadata": {},
   "outputs": [],
   "source": [
    "# DACIPmean methods\n",
    "nb_methods_dacipmean = 1\n",
    "repeats = 10\n",
    "results_src_dacipmean = np.zeros((len(lamMatches), M-1, nb_methods_dacipmean, 2, 10))\n",
    "results_tar_dacipmean = np.zeros((len(lamMatches), nb_methods_dacipmean, 2, 10))\n",
    "for i, lam in enumerate(lamMatches):\n",
    "    for seed in range(repeats):\n",
    "        savefilename_prefix = prefix_template % (perturb,\n",
    "                                     M, str(subset_prop), 'DACIPmean', 1., lam, 1., lam, 100, seed)\n",
    "        res = np.load(\"%s.npy\" %savefilename_prefix, allow_pickle=True)\n",
    "\n",
    "        results_src_dacipmean[i, :, :, :, seed] = res.item()['src']\n",
    "        results_tar_dacipmean[i, :, :, seed] = res.item()['tar']"
   ]
  },
  {
   "cell_type": "code",
   "execution_count": 12,
   "metadata": {},
   "outputs": [
    {
     "name": "stdout",
     "output_type": "stream",
     "text": [
      "5 1.0\n"
     ]
    }
   ],
   "source": [
    "# choose lambda based on the source test performance\n",
    "lam_index_dacipmean = np.zeros(nb_methods_dacipmean, dtype=int)\n",
    "for i in range(nb_methods_dacipmean):\n",
    "    src_test_acc_all = results_src_dacipmean[:, :-1, i, 1, :].mean(axis=2).mean(axis=1)\n",
    "    # choose the largest lambda such that the source performance does not drop too much (5%)\n",
    "    lam_index = 0\n",
    "    for k, src_test_acc in enumerate(src_test_acc_all):\n",
    "        \n",
    "        if src_test_acc > np.max(src_test_acc_all) * 0.99:\n",
    "            lam_index = k\n",
    "    lam_index_dacipmean[i] = lam_index\n",
    "    print(lam_index, lamMatches[lam_index])"
   ]
  },
  {
   "cell_type": "code",
   "execution_count": 13,
   "metadata": {},
   "outputs": [],
   "source": [
    "# DACIPMMD methods\n",
    "nb_methods_dacipmmd = 1\n",
    "repeats = 10\n",
    "results_src_dacipmmd = np.zeros((len(lamMatches), M-1, nb_methods_dacipmmd, 2, 10))\n",
    "results_tar_dacipmmd = np.zeros((len(lamMatches), nb_methods_dacipmmd, 2, 10))\n",
    "for i, lam in enumerate(lamMatches):\n",
    "    for seed in range(repeats):\n",
    "        savefilename_prefix = prefix_template % (perturb,\n",
    "                                     M, str(subset_prop), 'DACIPMMD', 1., lam, 1., lam, 100, seed)\n",
    "        res = np.load(\"%s.npy\" %savefilename_prefix, allow_pickle=True)\n",
    "\n",
    "        results_src_dacipmmd[i, :, :, :, seed] = res.item()['src']\n",
    "        results_tar_dacipmmd[i, :, :, seed] = res.item()['tar']"
   ]
  },
  {
   "cell_type": "code",
   "execution_count": 14,
   "metadata": {},
   "outputs": [
    {
     "name": "stdout",
     "output_type": "stream",
     "text": [
      "6 10.0\n"
     ]
    }
   ],
   "source": [
    "# choose lambda based on the source test performance\n",
    "lam_index_dacipmmd = np.zeros(nb_methods_dacipmmd, dtype=int)\n",
    "for i in range(nb_methods_dacipmmd):\n",
    "    src_test_acc_all = results_src_dacipmmd[:, :-1, i, 1, :].mean(axis=2).mean(axis=1)\n",
    "    # choose the largest lambda such that the source performance does not drop too much (5%)\n",
    "    lam_index = 0\n",
    "    for k, src_test_acc in enumerate(src_test_acc_all):\n",
    "        \n",
    "        if src_test_acc > np.max(src_test_acc_all) * 0.99:\n",
    "            lam_index = k\n",
    "    lam_index_dacipmmd[i] = lam_index\n",
    "    print(lam_index, lamMatches[lam_index])"
   ]
  },
  {
   "cell_type": "code",
   "execution_count": 15,
   "metadata": {},
   "outputs": [
    {
     "data": {
      "text/plain": [
       "array([7, 7, 4])"
      ]
     },
     "execution_count": 15,
     "metadata": {},
     "output_type": "execute_result"
    }
   ],
   "source": [
    "lam_index_damean[[0, 2, 3]]"
   ]
  },
  {
   "cell_type": "code",
   "execution_count": 16,
   "metadata": {},
   "outputs": [],
   "source": [
    "test_err_index = 0\n",
    "\n",
    "results_tar_plot = np.concatenate((results_tar_ba[:, test_err_index, :],\n",
    "                                   results_tar_damean[lam_index_damean[0], 0, test_err_index, :].reshape((-1, 10), order='F'),\n",
    "                                   results_tar_damean[lam_index_damean[2], 2, test_err_index, :].reshape((-1, 10), order='F'),\n",
    "                                   results_tar_dacipmean[lam_index_dacipmean, 0, test_err_index, :].reshape((-1, 10), order='F'),\n",
    "                                   results_tar_damean[lam_index_damean[3], 3, test_err_index, :].reshape((-1, 10), order='F'),\n",
    "                                   results_tar_dammd[lam_index_dammd[0], 0, test_err_index, :].reshape((-1, 10), order='F'),\n",
    "                                   results_tar_dammd[lam_index_dammd[1], 1, test_err_index, :].reshape((-1, 10), order='F'),\n",
    "                                   results_tar_dacipmmd[lam_index_dacipmmd, 0, test_err_index, :].reshape((-1, 10), order='F'),\n",
    "                                   results_tar_dammd[lam_index_dammd[2], 2, test_err_index, :].reshape((-1, 10), order='F')), axis=0)\n",
    "                                   \n"
   ]
  },
  {
   "cell_type": "code",
   "execution_count": 17,
   "metadata": {},
   "outputs": [
    {
     "data": {
      "image/png": "[encoded data removed]",
      "text/plain": [
       "<Figure size 792x72 with 1 Axes>"
      ]
     },
     "metadata": {
      "needs_background": "light"
     },
     "output_type": "display_data"
    }
   ],
   "source": [
    "COLOR_PALETTE1 = sns.color_palette(\"Set1\", 9, desat=1.)\n",
    "COLOR_PALETTE2 = sns.color_palette(\"Set1\", 9, desat=.7)\n",
    "COLOR_PALETTE3 = sns.color_palette(\"Set1\", 9, desat=.5)\n",
    "COLOR_PALETTE4 = sns.color_palette(\"Set1\", 9, desat=.3)\n",
    "# COLOR_PALETTE2 = sns.color_palette(\"Dark2\", 30)\n",
    "# COLOR_PALETTE = COLOR_PALETTE1[:8] + COLOR_PALETTE2[:30]\n",
    "COLOR_PALETTE = [COLOR_PALETTE1[8], COLOR_PALETTE1[0], COLOR_PALETTE1[1],\n",
    "                 COLOR_PALETTE1[3], COLOR_PALETTE1[4], COLOR_PALETTE1[7], \n",
    "                 COLOR_PALETTE1[6], \n",
    "                 COLOR_PALETTE4[3], COLOR_PALETTE4[4], COLOR_PALETTE4[7], \n",
    "                 COLOR_PALETTE4[6]]\n",
    "sns.palplot(COLOR_PALETTE)\n"
   ]
  },
  {
   "cell_type": "code",
   "execution_count": 18,
   "metadata": {},
   "outputs": [
    {
     "name": "stdout",
     "output_type": "stream",
     "text": [
      "(10, 11) (11,) (110, 2)\n"
     ]
    },
    {
     "data": {
      "image/png": "[encoded data removed]",
      "text/plain": [
       "<Figure size 720x360 with 1 Axes>"
      ]
     },
     "metadata": {
      "needs_background": "light"
     },
     "output_type": "display_data"
    }
   ],
   "source": [
    "# hyperparameter choice plot\n",
    "fig, axs = plt.subplots(1, 1, figsize=(10,5))\n",
    "boxplot_all_methods(axs, results_tar_plot*100,\n",
    "                     title=\"\", names=names_short,\n",
    "                     color=np.array(COLOR_PALETTE)[:len(names_short)])\n",
    "\n",
    "plt.savefig(\"paper_figures/MNIST_%s_M5_Yintervention.pdf\" %perturb, bbox_inches=\"tight\")\n",
    "plt.show()"
   ]
  },
  {
   "cell_type": "code",
   "execution_count": null,
   "metadata": {},
   "outputs": [],
   "source": []
  }
 ],
 "metadata": {
  "kernelspec": {
   "display_name": "Python 3",
   "language": "python",
   "name": "python3"
  },
  "language_info": {
   "codemirror_mode": {
    "name": "ipython",
    "version": 3
   },
   "file_extension": ".py",
   "mimetype": "text/x-python",
   "name": "python",
   "nbconvert_exporter": "python",
   "pygments_lexer": "ipython3",
   "version": "3.6.4"
  }
 },
 "nbformat": 4,
 "nbformat_minor": 2
}
