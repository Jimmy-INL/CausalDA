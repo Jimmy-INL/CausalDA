{
 "cells": [
  {
   "cell_type": "code",
   "execution_count": 1,
   "metadata": {},
   "outputs": [],
   "source": [
    "import numpy as np\n",
    "import matplotlib.pyplot as plt\n",
    "import pandas as pd\n",
    "import gzip\n",
    "import json\n",
    "import os\n",
    "import h5py\n",
    "\n",
    "\n",
    "plt.rcParams['axes.facecolor'] = 'lightgray'\n",
    "\n",
    "np.set_printoptions(precision=3)"
   ]
  },
  {
   "cell_type": "code",
   "execution_count": 2,
   "metadata": {},
   "outputs": [],
   "source": [
    "def parse(path):\n",
    "    g = gzip.open(path, 'rb')\n",
    "    for l in g:\n",
    "        yield json.loads(l)\n",
    "\n",
    "def getDF(path):\n",
    "    i = 0\n",
    "    df = {}\n",
    "    for d in parse(path):\n",
    "        df[i] = d\n",
    "        i += 1\n",
    "    return pd.DataFrame.from_dict(df, orient='index')"
   ]
  },
  {
   "cell_type": "code",
   "execution_count": 3,
   "metadata": {},
   "outputs": [],
   "source": [
    "categories = [\n",
    "              'Arts_Crafts_and_Sewing_5', 'Automotive_5', 'CDs_and_Vinyl_5',\n",
    "              'Cell_Phones_and_Accessories_5', 'Digital_Music_5',\n",
    "              'Grocery_and_Gourmet_Food_5', 'Industrial_and_Scientific_5', 'Luxury_Beauty_5',\n",
    "              'Musical_Instruments_5', 'Office_Products_5',\n",
    "              'Patio_Lawn_and_Garden_5', 'Pet_Supplies_5', 'Prime_Pantry_5',\n",
    "              'Software_5', 'Tools_and_Home_Improvement_5', 'Toys_and_Games_5']"
   ]
  },
  {
   "cell_type": "code",
   "execution_count": 4,
   "metadata": {},
   "outputs": [
    {
     "name": "stdout",
     "output_type": "stream",
     "text": [
      "Clothing_Shoes_and_Jewelry_5 (10000, 12)\n",
      "Electronics_5 (10000, 12)\n",
      "Home_and_Kitchen_5 (10000, 12)\n",
      "Kindle_Store_5 (10000, 12)\n",
      "Movies_and_TV_5 (10000, 12)\n",
      "Sports_and_Outdoors_5 (10000, 12)\n",
      "Video_Games_5 (10000, 12)\n"
     ]
    }
   ],
   "source": [
    "N = 10000\n",
    "np.random.seed(123456)\n",
    "dfs = {}\n",
    "for i, cate in enumerate(categories):\n",
    "    df = getDF('data/amazon_review_data_2018_subset/%s.json.gz' %cate)\n",
    "    df = df[~df.reviewText.isna()]\n",
    "    if df.shape[0] > N:\n",
    "        df = df.sample(n=N)\n",
    "    dfs[i] = df\n",
    "    \n",
    "    dfs[i].to_csv(\"data/amazon_review_data_2018_subset/%s_%d.csv\" %(cate, N), index=False)\n",
    "    print(cate, dfs[i].shape)\n",
    "    \n",
    "    "
   ]
  },
  {
   "cell_type": "code",
   "execution_count": null,
   "metadata": {},
   "outputs": [],
   "source": []
  },
  {
   "cell_type": "code",
   "execution_count": null,
   "metadata": {},
   "outputs": [],
   "source": []
  },
  {
   "cell_type": "code",
   "execution_count": null,
   "metadata": {},
   "outputs": [],
   "source": []
  },
  {
   "cell_type": "code",
   "execution_count": null,
   "metadata": {},
   "outputs": [],
   "source": []
  }
 ],
 "metadata": {
  "kernelspec": {
   "display_name": "Python 3",
   "language": "python",
   "name": "python3"
  },
  "language_info": {
   "codemirror_mode": {
    "name": "ipython",
    "version": 3
   },
   "file_extension": ".py",
   "mimetype": "text/x-python",
   "name": "python",
   "nbconvert_exporter": "python",
   "pygments_lexer": "ipython3",
   "version": "3.6.5"
  }
 },
 "nbformat": 4,
 "nbformat_minor": 2
}
